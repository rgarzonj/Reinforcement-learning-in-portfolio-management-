{
 "cells": [
  {
   "cell_type": "code",
   "execution_count": null,
   "metadata": {},
   "outputs": [],
   "source": [
    "#EXPERIMENT_NAME=\"Write here the name of the experiment for logging purposes\"\n",
    "EXPERIMENT_NAME=\"Baseline from the paper\""
   ]
  },
  {
   "cell_type": "code",
   "execution_count": null,
   "metadata": {},
   "outputs": [],
   "source": [
    "# Load the TensorBoard notebook extension\n",
    "%load_ext tensorboard"
   ]
  },
  {
   "cell_type": "code",
   "execution_count": null,
   "metadata": {},
   "outputs": [],
   "source": [
    "import random\n",
    "exp_num = random.randint(1,10000000)\n",
    "print ('Running Experiment number ' + str(exp_num))"
   ]
  },
  {
   "cell_type": "code",
   "execution_count": null,
   "metadata": {
    "scrolled": true
   },
   "outputs": [],
   "source": [
    "%run main.py --mode=train --num=$exp_num"
   ]
  },
  {
   "cell_type": "code",
   "execution_count": null,
   "metadata": {},
   "outputs": [],
   "source": [
    "import json\n",
    "\n",
    "with open('config.json') as json_file:\n",
    "    config = json.load(json_file)"
   ]
  },
  {
   "cell_type": "code",
   "execution_count": null,
   "metadata": {},
   "outputs": [],
   "source": [
    "import json\n",
    "import os.path\n",
    "\n",
    "EXPERIMENT_TABLE = 'exp_table.json'\n",
    "if os.path.isfile(EXPERIMENT_TABLE):\n",
    "    with open(EXPERIMENT_TABLE) as json_file:\n",
    "        exp_table = json.load(json_file)\n",
    "else:\n",
    "    exp_table ={}\n",
    "exp_table[exp_num]=EXPERIMENT_NAME\n",
    "\n",
    "with open(EXPERIMENT_TABLE, 'w') as fp:\n",
    "            json.dump(exp_table, fp)"
   ]
  },
  {
   "cell_type": "code",
   "execution_count": null,
   "metadata": {},
   "outputs": [],
   "source": [
    "\n",
    "Predictor = config['session']['agents'][0]\n",
    "Framework = config['session']['agents'][1]\n",
    "Window_length = config['session']['agents'][2]\n",
    "epochs = config['session']['epochs']\n",
    "trainable = config['session']['trainable']\n",
    "#./result/PG/98785/saved_network/True/CNN-PG-10-10\n",
    "SAVED_NETWORK_FOLDER = \"./result/\" + Framework + \"/\" + str(exp_num)+ \"/saved_network/\" + trainable + \"/\" + Predictor + \"-\" + Framework + \"-\" + Window_length + \"-\" + epochs  \n",
    "SAVED_NETWORK_FOLDER\n",
    "    "
   ]
  },
  {
   "cell_type": "code",
   "execution_count": null,
   "metadata": {},
   "outputs": [],
   "source": [
    "#Running twice because the first one always fails (TODO)\n",
    "%run main.py --mode=test --num=$exp_num\n",
    "%run main.py --mode=test --num=$exp_num"
   ]
  },
  {
   "cell_type": "code",
   "execution_count": null,
   "metadata": {},
   "outputs": [],
   "source": [
    "from IPython.display import Image\n",
    "backtestImage = \"./result/\" + Framework + \"/\" + str(exp_num)+ \"/backtest.png\"\n",
    "Image(filename=backtestImage)"
   ]
  },
  {
   "cell_type": "markdown",
   "metadata": {},
   "source": [
    "## Issues found\n"
   ]
  },
  {
   "cell_type": "code",
   "execution_count": null,
   "metadata": {},
   "outputs": [],
   "source": []
  }
 ],
 "metadata": {
  "kernelspec": {
   "display_name": "Python 3",
   "language": "python",
   "name": "python3"
  },
  "language_info": {
   "codemirror_mode": {
    "name": "ipython",
    "version": 3
   },
   "file_extension": ".py",
   "mimetype": "text/x-python",
   "name": "python",
   "nbconvert_exporter": "python",
   "pygments_lexer": "ipython3",
   "version": "3.8.5"
  }
 },
 "nbformat": 4,
 "nbformat_minor": 4
}
